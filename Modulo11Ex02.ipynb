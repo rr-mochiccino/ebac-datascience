{
 "cells": [
  {
   "cell_type": "markdown",
   "metadata": {},
   "source": [
    "## Árvores de regressão - exercícios 02\n",
    "\n",
    "Este exercício será uma continuação do anterior, mesma base, mesmas variáveis - vamos tentar buscar a 'melhor árvore'.\n",
    "\n",
    "A descrição das variáveis está abaixo:"
   ]
  },
  {
   "cell_type": "markdown",
   "metadata": {},
   "source": [
    "| Variavel | Descrição|\n",
    "|-|-|\n",
    "|CRIM| taxa de crimes per-cápita da cidade | \n",
    "|ZN| proporção de terrenos residenciais zoneados para lotes com mais de 25.000 pés quadrados. |\n",
    "|INDUS| proporção de acres de negócios não varejistas por cidade |\n",
    "|CHAS |vale 1 se o terreno faz fronteira com o *Charles River*; 0 caso contrário |\n",
    "|NOX| Concentração de óxido nítrico (em partes por 10 milhões) |\n",
    "|RM| número médio de quartos por habitação |\n",
    "|AGE| proporção de unidades ocupadas pelo proprietário construídas antes de 1940 |\n",
    "|DIS| distâncias ponderadas até cinco centros de empregos de Boston |\n",
    "|RAD| índice de acessibilidade a rodovias radiais |\n",
    "|TAX| taxa de imposto sobre a propriedade de valor total por \\\\$10,000 |\n",
    "|PTRATIO| razão pupilo-professor da cidade |\n",
    "|B| $ 1000 (Bk - 0,63) ^ 2 $ onde Bk é a proporção de negros por cidade |\n",
    "|LSTAT| \\%status inferior da população |\n",
    "|MEDV| (variável resposta) Valor mediano das casas ocupadas pelo proprietário em US $ 1.000|"
   ]
  },
  {
   "cell_type": "code",
   "execution_count": 1,
   "metadata": {},
   "outputs": [],
   "source": [
    "import pandas as pd\n",
    "\n",
    "import seaborn as sns\n",
    "\n",
    "from sklearn import datasets\n",
    "from sklearn.tree import DecisionTreeRegressor\n",
    "from sklearn import tree\n",
    "from sklearn.model_selection import train_test_split\n",
    "\n",
    "\n",
    "\n",
    "# Carregar dados do arquivo\n",
    "columns = [\"CRIM\", \"ZN\", \"INDUS\", \"CHAS\", \"NOX\", \"RM\", \"AGE\", \"DIS\", \"RAD\", \"TAX\", \"PTRATIO\", \"B\", \"LSTAT\", \"MEDV\"]\n",
    "boston = pd.read_csv(\"boston.txt\", sep=\"\\s+\", skiprows=22, header=None)\n",
    "\n",
    "even_lines = boston.iloc[::2, :].reset_index(drop=True)\n",
    "odd_lines = boston.iloc[1::2, :].reset_index(drop=True)\n",
    "\n",
    "odd_lines = odd_lines.drop([3, 4, 5, 6, 7, 8, 9, 10], axis=1)\n",
    "\n",
    "boston = pd.concat([even_lines, odd_lines], axis=1)\n",
    "boston.columns = columns\n",
    "\n",
    "X = boston.drop(\"MEDV\", axis=1)\n",
    "y = boston[\"MEDV\"]"
   ]
  },
  {
   "cell_type": "code",
   "execution_count": 2,
   "metadata": {},
   "outputs": [
    {
     "data": {
      "text/html": [
       "<div>\n",
       "<style scoped>\n",
       "    .dataframe tbody tr th:only-of-type {\n",
       "        vertical-align: middle;\n",
       "    }\n",
       "\n",
       "    .dataframe tbody tr th {\n",
       "        vertical-align: top;\n",
       "    }\n",
       "\n",
       "    .dataframe thead th {\n",
       "        text-align: right;\n",
       "    }\n",
       "</style>\n",
       "<table border=\"1\" class=\"dataframe\">\n",
       "  <thead>\n",
       "    <tr style=\"text-align: right;\">\n",
       "      <th></th>\n",
       "      <th>CRIM</th>\n",
       "      <th>ZN</th>\n",
       "      <th>INDUS</th>\n",
       "      <th>CHAS</th>\n",
       "      <th>NOX</th>\n",
       "      <th>RM</th>\n",
       "      <th>AGE</th>\n",
       "      <th>DIS</th>\n",
       "      <th>RAD</th>\n",
       "      <th>TAX</th>\n",
       "      <th>PTRATIO</th>\n",
       "      <th>B</th>\n",
       "      <th>LSTAT</th>\n",
       "    </tr>\n",
       "  </thead>\n",
       "  <tbody>\n",
       "    <tr>\n",
       "      <th>0</th>\n",
       "      <td>0.00632</td>\n",
       "      <td>18.0</td>\n",
       "      <td>2.31</td>\n",
       "      <td>0.0</td>\n",
       "      <td>0.538</td>\n",
       "      <td>6.575</td>\n",
       "      <td>65.2</td>\n",
       "      <td>4.0900</td>\n",
       "      <td>1.0</td>\n",
       "      <td>296.0</td>\n",
       "      <td>15.3</td>\n",
       "      <td>396.90</td>\n",
       "      <td>4.98</td>\n",
       "    </tr>\n",
       "    <tr>\n",
       "      <th>1</th>\n",
       "      <td>0.02731</td>\n",
       "      <td>0.0</td>\n",
       "      <td>7.07</td>\n",
       "      <td>0.0</td>\n",
       "      <td>0.469</td>\n",
       "      <td>6.421</td>\n",
       "      <td>78.9</td>\n",
       "      <td>4.9671</td>\n",
       "      <td>2.0</td>\n",
       "      <td>242.0</td>\n",
       "      <td>17.8</td>\n",
       "      <td>396.90</td>\n",
       "      <td>9.14</td>\n",
       "    </tr>\n",
       "    <tr>\n",
       "      <th>2</th>\n",
       "      <td>0.02729</td>\n",
       "      <td>0.0</td>\n",
       "      <td>7.07</td>\n",
       "      <td>0.0</td>\n",
       "      <td>0.469</td>\n",
       "      <td>7.185</td>\n",
       "      <td>61.1</td>\n",
       "      <td>4.9671</td>\n",
       "      <td>2.0</td>\n",
       "      <td>242.0</td>\n",
       "      <td>17.8</td>\n",
       "      <td>392.83</td>\n",
       "      <td>4.03</td>\n",
       "    </tr>\n",
       "    <tr>\n",
       "      <th>3</th>\n",
       "      <td>0.03237</td>\n",
       "      <td>0.0</td>\n",
       "      <td>2.18</td>\n",
       "      <td>0.0</td>\n",
       "      <td>0.458</td>\n",
       "      <td>6.998</td>\n",
       "      <td>45.8</td>\n",
       "      <td>6.0622</td>\n",
       "      <td>3.0</td>\n",
       "      <td>222.0</td>\n",
       "      <td>18.7</td>\n",
       "      <td>394.63</td>\n",
       "      <td>2.94</td>\n",
       "    </tr>\n",
       "    <tr>\n",
       "      <th>4</th>\n",
       "      <td>0.06905</td>\n",
       "      <td>0.0</td>\n",
       "      <td>2.18</td>\n",
       "      <td>0.0</td>\n",
       "      <td>0.458</td>\n",
       "      <td>7.147</td>\n",
       "      <td>54.2</td>\n",
       "      <td>6.0622</td>\n",
       "      <td>3.0</td>\n",
       "      <td>222.0</td>\n",
       "      <td>18.7</td>\n",
       "      <td>396.90</td>\n",
       "      <td>5.33</td>\n",
       "    </tr>\n",
       "  </tbody>\n",
       "</table>\n",
       "</div>"
      ],
      "text/plain": [
       "      CRIM    ZN  INDUS  CHAS    NOX     RM   AGE     DIS  RAD    TAX  \\\n",
       "0  0.00632  18.0   2.31   0.0  0.538  6.575  65.2  4.0900  1.0  296.0   \n",
       "1  0.02731   0.0   7.07   0.0  0.469  6.421  78.9  4.9671  2.0  242.0   \n",
       "2  0.02729   0.0   7.07   0.0  0.469  7.185  61.1  4.9671  2.0  242.0   \n",
       "3  0.03237   0.0   2.18   0.0  0.458  6.998  45.8  6.0622  3.0  222.0   \n",
       "4  0.06905   0.0   2.18   0.0  0.458  7.147  54.2  6.0622  3.0  222.0   \n",
       "\n",
       "   PTRATIO       B  LSTAT  \n",
       "0     15.3  396.90   4.98  \n",
       "1     17.8  396.90   9.14  \n",
       "2     17.8  392.83   4.03  \n",
       "3     18.7  394.63   2.94  \n",
       "4     18.7  396.90   5.33  "
      ]
     },
     "execution_count": 2,
     "metadata": {},
     "output_type": "execute_result"
    }
   ],
   "source": [
    "X.head()"
   ]
  },
  {
   "cell_type": "code",
   "execution_count": 3,
   "metadata": {},
   "outputs": [
    {
     "data": {
      "text/plain": [
       "0    24.0\n",
       "1    21.6\n",
       "2    34.7\n",
       "3    33.4\n",
       "4    36.2\n",
       "Name: MEDV, dtype: float64"
      ]
     },
     "execution_count": 3,
     "metadata": {},
     "output_type": "execute_result"
    }
   ],
   "source": [
    "y.head()"
   ]
  },
  {
   "cell_type": "markdown",
   "metadata": {},
   "source": [
    "### 1. Execute os passos do exercício anterior, até que você tenha uma árvore de regressão predizendo o valor do imóvel na base de treinamento."
   ]
  },
  {
   "cell_type": "code",
   "execution_count": 39,
   "metadata": {},
   "outputs": [
    {
     "name": "stdout",
     "output_type": "stream",
     "text": [
      "R2 DA ARVORE COM PROFUNDIDADE 2 : 0.71\n",
      "R2 DA ARVORE COM PROFUNDIDADE 8 : 0.98\n"
     ]
    }
   ],
   "source": [
    "X_train, X_test, y_train, y_test = train_test_split(X, y, random_state = 42)\n",
    "regr_1 = DecisionTreeRegressor(max_depth = 2)\n",
    "regr_2 = DecisionTreeRegressor(max_depth = 8)\n",
    "\n",
    "regr_1.fit(X_train, y_train)\n",
    "regr_2.fit(X_train, y_train)\n",
    "\n",
    "r2_1 = regr_1.score(X_train, y_train)\n",
    "r2_2 = regr_2.score(X_train, y_train)\n",
    "\n",
    "\n",
    "print(f\"R2 DA ARVORE COM PROFUNDIDADE {regr_1.get_depth()} : {round(r2_1,2)}\")\n",
    "print(f\"R2 DA ARVORE COM PROFUNDIDADE {regr_2.get_depth()} : {round(r2_2,2)}\")\n"
   ]
  },
  {
   "cell_type": "markdown",
   "metadata": {},
   "source": [
    "### 2.  Calcule o caminho indicado pelos CCP-alfas dessa árvore."
   ]
  },
  {
   "cell_type": "code",
   "execution_count": 6,
   "metadata": {},
   "outputs": [
    {
     "data": {
      "text/plain": [
       "{'ccp_alphas': array([0.00000000e+00, 1.31926121e-05, 2.11081794e-04, 3.29815303e-04,\n",
       "        3.29815303e-04, 4.74934037e-04, 6.46437995e-04, 1.31926121e-03,\n",
       "        1.31926121e-03, 1.59630607e-03, 1.59630607e-03, 1.89973615e-03,\n",
       "        2.13720317e-03, 2.22955145e-03, 2.32629727e-03, 2.38126649e-03,\n",
       "        2.53298153e-03, 3.20580475e-03, 3.81266491e-03, 5.81794195e-03,\n",
       "        6.83905013e-03, 8.19019349e-03, 1.09302676e-02, 1.18733509e-02,\n",
       "        1.18950748e-02, 1.23680739e-02, 1.24750140e-02, 1.30364996e-02,\n",
       "        1.30364996e-02, 1.61609499e-02, 1.63632366e-02, 1.80123131e-02,\n",
       "        2.31586883e-02, 2.49967751e-02, 2.52558567e-02, 2.61708443e-02,\n",
       "        2.73657181e-02, 2.81442392e-02, 2.96833773e-02, 3.37626954e-02,\n",
       "        3.55455040e-02, 3.58914436e-02, 3.79655470e-02, 3.80343008e-02,\n",
       "        4.37137203e-02, 4.55936675e-02, 4.61635884e-02, 4.62016271e-02,\n",
       "        4.69070654e-02, 5.05380556e-02, 5.16212778e-02, 5.51043416e-02,\n",
       "        5.61521548e-02, 6.20907922e-02, 6.73372911e-02, 6.89066294e-02,\n",
       "        7.22427441e-02, 7.83740106e-02, 8.81072482e-02, 8.97625753e-02,\n",
       "        8.98434477e-02, 9.53961943e-02, 9.98548813e-02, 1.06464746e-01,\n",
       "        1.25825722e-01, 1.35591979e-01, 1.48572112e-01, 1.48746885e-01,\n",
       "        1.50468638e-01, 1.50505717e-01, 1.56229845e-01, 1.59206452e-01,\n",
       "        1.61085092e-01, 1.81574315e-01, 1.86265146e-01, 1.87733889e-01,\n",
       "        1.95259455e-01, 2.49040445e-01, 2.52298904e-01, 2.69180163e-01,\n",
       "        2.93390965e-01, 3.76719610e-01, 4.09690045e-01, 4.37983360e-01,\n",
       "        4.79322472e-01, 5.15773980e-01, 6.09347536e-01, 8.43439029e-01,\n",
       "        9.66510554e-01, 1.44686438e+00, 1.85668550e+00, 2.36788932e+00,\n",
       "        3.09038412e+00, 4.79303831e+00, 6.30359173e+00, 1.44285958e+01,\n",
       "        4.21383559e+01]),\n",
       " 'impurities': array([ 2.14187783,  2.14189102,  2.1421021 ,  2.14243192,  2.14276174,\n",
       "         2.14323667,  2.14388311,  2.14520237,  2.14652163,  2.14811794,\n",
       "         2.14971424,  2.15161398,  2.15375118,  2.15598073,  2.15830703,\n",
       "         2.1606883 ,  2.16322128,  2.16642708,  2.17023975,  2.17605769,\n",
       "         2.18289674,  2.19108693,  2.21294747,  2.22482082,  2.23671589,\n",
       "         2.24908397,  2.26155898,  2.27459548,  2.28763198,  2.30379293,\n",
       "         2.32015617,  2.33816848,  2.36132717,  2.38632394,  2.4115798 ,\n",
       "         2.43775065,  2.46511636,  2.4932606 ,  2.52294398,  2.55670668,\n",
       "         2.59225218,  2.62814362,  2.66610917,  2.70414347,  2.74785719,\n",
       "         2.79345086,  2.83961445,  2.88581607,  2.93272314,  2.98326119,\n",
       "         3.03488247,  3.14509116,  3.20124331,  3.2633341 ,  3.33067139,\n",
       "         3.39957802,  3.47182077,  3.55019478,  3.63830203,  3.7280646 ,\n",
       "         3.81790805,  3.91330424,  4.01315912,  4.11962387,  4.24544959,\n",
       "         4.38104157,  4.52961368,  4.67836057,  4.82882921,  4.97933492,\n",
       "         5.13556477,  5.45397767,  5.61506276,  5.79663708,  5.98290223,\n",
       "         6.35837   ,  6.55362946,  6.8026699 ,  7.05496881,  7.32414897,\n",
       "         7.61753994,  7.99425954,  8.40394959,  8.84193295,  9.32125542,\n",
       "         9.8370294 , 10.44637694, 11.28981597, 12.25632652, 13.7031909 ,\n",
       "        15.5598764 , 17.92776572, 21.01814984, 25.81118816, 32.11477988,\n",
       "        46.54337566, 88.68173154])}"
      ]
     },
     "execution_count": 6,
     "metadata": {},
     "output_type": "execute_result"
    }
   ],
   "source": [
    "path2 = regr_2.cost_complexity_pruning_path(X_train, y_train)\n",
    "path2"
   ]
  },
  {
   "cell_type": "code",
   "execution_count": 7,
   "metadata": {},
   "outputs": [],
   "source": [
    "ccp_alphas2, impurities2 = path2.ccp_alphas, path2.impurities\n"
   ]
  },
  {
   "cell_type": "markdown",
   "metadata": {},
   "source": [
    "### 3. Paca cada valor de alpha obtido no item 2, treine uma árvore com o respectivo alfa, e guarde essa árvore em uma lista."
   ]
  },
  {
   "cell_type": "code",
   "execution_count": 8,
   "metadata": {},
   "outputs": [],
   "source": [
    "clfs2 = []"
   ]
  },
  {
   "cell_type": "code",
   "execution_count": 9,
   "metadata": {},
   "outputs": [],
   "source": [
    "for ccp_alpha in ccp_alphas2 :\n",
    "    clf = DecisionTreeRegressor(random_state = 42, ccp_alpha=ccp_alpha)\n",
    "    clf.fit(X_train, y_train)\n",
    "    clfs2.append(clf)"
   ]
  },
  {
   "cell_type": "markdown",
   "metadata": {},
   "source": [
    "### 4. Para cada árvore na lista, calcule o MSE da árvore."
   ]
  },
  {
   "cell_type": "code",
   "execution_count": 13,
   "metadata": {},
   "outputs": [],
   "source": [
    "from sklearn.metrics import mean_squared_error\n",
    "\n",
    "train_scores2 = [mean_squared_error(y_train, clf.predict(X_train)) for clf in clfs2]\n",
    "test_scores2 = [mean_squared_error(y_test, clf.predict(X_test)) for clf in clfs2]"
   ]
  },
  {
   "cell_type": "markdown",
   "metadata": {},
   "source": [
    "### 5. Monte um gráfico do MSE pelo alpha, escolha um valor de alpha perto do ponto de mínimo do MSE"
   ]
  },
  {
   "cell_type": "code",
   "execution_count": 55,
   "metadata": {},
   "outputs": [
    {
     "data": {
      "image/png": "[encoded data removed]",
      "text/plain": [
       "<Figure size 1600x1000 with 1 Axes>"
      ]
     },
     "metadata": {},
     "output_type": "display_data"
    }
   ],
   "source": [
    "import matplotlib.pyplot as plt\n",
    "\n",
    "ccp_alphas1 = ccp_alphas1[:-1]\n",
    "train_scores1 = train_scores2[:len(ccp_alphas2)] \n",
    "test_scores1 = test_scores2[:len(ccp_alphas2)]    \n",
    "fig, ax = plt.subplots (figsize = (16,10))\n",
    "\n",
    "ax.set_xlabel(\"Alpha\")\n",
    "ax.set_ylabel(\"MSE\")\n",
    "ax.set_title(\"MSE e alpha do conjunto de dados 2 de treino e teste\")\n",
    "ax.plot(ccp_alphas2, train_scores2, marker='o', label=\"treino\", drawstyle = \"steps-post\")\n",
    "ax.plot(ccp_alphas2, test_scores2, marker='o', label=\"teste\",drawstyle = \"steps-post\")\n",
    "plt.xlim(0.0, 10)\n",
    "\n",
    "ax.legend()\n",
    "\n",
    "plt.show()\n"
   ]
  },
  {
   "cell_type": "code",
   "execution_count": 57,
   "metadata": {},
   "outputs": [
    {
     "data": {
      "image/png": "[encoded data removed]",
      "text/plain": [
       "<Figure size 1600x1000 with 1 Axes>"
      ]
     },
     "metadata": {},
     "output_type": "display_data"
    }
   ],
   "source": [
    "import matplotlib.pyplot as plt\n",
    "\n",
    "ccp_alphas1 = ccp_alphas1[:-1]\n",
    "train_scores1 = train_scores2[:len(ccp_alphas2)]  \n",
    "test_scores1 = test_scores2[:len(ccp_alphas2)]    \n",
    "\n",
    "fig, ax = plt.subplots (figsize = (16,10))\n",
    "\n",
    "ax.set_xlabel(\"Alpha\")\n",
    "ax.set_ylabel(\"MSE\")\n",
    "ax.set_title(\"MSE e alpha do conjunto de dados 2 de treino e teste\")\n",
    "ax.plot(ccp_alphas2, train_scores2, marker='o', label=\"treino\", drawstyle = \"steps-post\")\n",
    "ax.plot(ccp_alphas2, test_scores2, marker='o', label=\"teste\",drawstyle = \"steps-post\")\n",
    "plt.xlim(0.0, 2)\n",
    "\n",
    "ax.legend()\n",
    "\n",
    "plt.show()"
   ]
  },
  {
   "cell_type": "markdown",
   "metadata": {},
   "source": [
    "### 6. Calcule o R-quadrado dessa árvore encontrada no item acima"
   ]
  },
  {
   "cell_type": "code",
   "execution_count": null,
   "metadata": {},
   "outputs": [],
   "source": []
  },
  {
   "cell_type": "markdown",
   "metadata": {},
   "source": [
    "### 7. Visualize esta árvore."
   ]
  },
  {
   "cell_type": "code",
   "execution_count": null,
   "metadata": {},
   "outputs": [],
   "source": []
  }
 ],
 "metadata": {
  "kernelspec": {
   "display_name": "Python 3",
   "language": "python",
   "name": "python3"
  },
  "language_info": {
   "codemirror_mode": {
    "name": "ipython",
    "version": 3
   },
   "file_extension": ".py",
   "mimetype": "text/x-python",
   "name": "python",
   "nbconvert_exporter": "python",
   "pygments_lexer": "ipython3",
   "version": "3.10.9"
  }
 },
 "nbformat": 4,
 "nbformat_minor": 4
}
